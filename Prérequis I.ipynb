{
  "cells": [
    {
      "cell_type": "markdown",
      "metadata": {
        "id": "gjbt34Pr1Hks"
      },
      "source": [
        "\n",
        "<font color=\"green\"> <h1 align=\"center\"> ESME - Big Data & Digital Marketing </h1>  </font>  \n",
        "\n",
        "\n",
        "<font color=\"green\"> <h2 align=\"center\"> Révision </h2> </font>\n",
        "\n",
        "\n",
        "<font color=\"green\"> <h3 align=\"center\"> NASSE ABALORI MARTIN </h3></font>\n"
      ]
    },
    {
      "cell_type": "markdown",
      "metadata": {},
      "source": [
        "<font color=\"green\"> <h3 align=\"left\"> I. Installations de logiciels</h3></font> \n",
        "\n",
        "<font color=\"green\"> <h5 align=\"left\"> 1. Installation de Kafka-Python</h5></font> \n",
        "\n",
        "<font> <p align=\"left\"> **Kafka-Python** est la librairie nécéssaire pour travailler sur kafka avec le langage python</p>\n",
        "        <p> Dans votre terminal, tapez:  `pip install kafka-python`</p>\n",
        "</font> \n",
        "\n",
        "<font color=\"green\"> <h5 align=\"left\">  2. Installation de l'Extension Jupyter pour VS Code</h5></font> \n",
        "\n",
        "<font> <p align=\"left\"> **Extension Jupyter pour VS Code** permet d'utiliser un notebook jupyter directement dans vs coce</p>\n",
        "        <p> Dans paramètre, choisissez `extensions`, recherchez \"Jupyter\" et installez l'extension</p>\n",
        "</font> \n",
        "\n"
      ]
    },
    {
      "cell_type": "markdown",
      "metadata": {},
      "source": [
        "<font color=\"green\"> <h3 align=\"left\"> II. Rappel de quelques Notions Clés en Python</h3></font>\n",
        "<table>\n",
        "<thead>\n",
        "<tr>\n",
        "<th>Catégorie</th>\n",
        "<th>Opération</th>\n",
        "<th>Exemple</th>\n",
        "</tr>\n",
        "</thead>\n",
        "<tbody>\n",
        "<tr>\n",
        "<td><b>Types de Données</b></td>\n",
        "<td>String</td>\n",
        "<td><code>chaine = \"Bonjour\"</code></td>\n",
        "</tr>\n",
        "<tr>\n",
        "<td></td>\n",
        "<td>Integer</td>\n",
        "<td><code>entier = 5</code></td>\n",
        "</tr>\n",
        "<tr>\n",
        "<td></td>\n",
        "<td>Float</td>\n",
        "<td><code>decimal = 5.5</code></td>\n",
        "</tr>\n",
        "<tr>\n",
        "<td></td>\n",
        "<td>Boolean</td>\n",
        "<td><code>vrai = True</code>, <code>faux = False</code></td>\n",
        "</tr>\n",
        "<tr>\n",
        "<td><b>Structures de Données</b></td>\n",
        "<td>Listes</td>\n",
        "<td><code>liste = [1, 2, 3]</code><br><code>element = liste[0]</code><br><code>liste[0] = 10</code><br><code>liste.append(4)</code><br><code>del liste[0]</code></td>\n",
        "</tr>\n",
        "<tr>\n",
        "<td></td>\n",
        "<td>Tuples</td>\n",
        "<td><code>tuple = (1, 2, 3)</code><br><code>element = tuple[0]</code></td>\n",
        "</tr>\n",
        "<tr>\n",
        "<td></td>\n",
        "<td>Dictionnaires</td>\n",
        "<td><code>dico = {'cle1': 'valeur1', 'cle2': 'valeur2'}</code><br><code>valeur = dico['cle1']</code><br><code>dico['cle1'] = 'nouvelle valeur'</code><br><code>dico['cle3'] = 'valeur3'</code><br><code>del dico['cle1']</code></td>\n",
        "</tr>\n",
        "<tr>\n",
        "<td></td>\n",
        "<td>Ensembles</td>\n",
        "<td><code>ensemble = {1, 2, 3}</code><br><code>ensemble.add(4)</code><br><code>ensemble.remove(1)</code></td>\n",
        "</tr>\n",
        "<tr>\n",
        "<td><b>Contrôle de Flux</b></td>\n",
        "<td>Conditions</td>\n",
        "<td><pre><code>if x > 0:<br>    # instructions si vrai<br>elif x == 0:<br>    # instructions si égal à zéro<br>else:<br>    # instructions si faux</code></pre></td>\n",
        "</tr>\n",
        "<tr>\n",
        "<td></td>\n",
        "<td>Boucles For</td>\n",
        "<td><pre><code>for i in range(3):<br>    # instructions pour chaque i</code></pre></td>\n",
        "</tr>\n",
        "<tr>\n",
        "<td></td>\n",
        "<td>Boucles While</td>\n",
        "<td><pre><code>while x < 5:<br>    # instructions tant que x est inférieur à 5</code></pre></td>\n",
        "</tr>\n",
        "<tr>\n",
        "<td><b>Fonctions</b></td>\n",
        "<td>Déclaration et Appel</td>\n",
        "<td><pre><code>def somme(a, b):<br>    return a + b<br><br>total = somme(5, 3)</code></pre></td>\n",
        "</tr>\n",
        "<tr>\n",
        "<td><b>Gestion des Erreurs</b></td>\n",
        "<td>Try/Except</td>\n",
        "<td><pre><code>try:<br>    # instructions susceptibles de générer une erreur<br>except ValueError:<br>    # instructions en cas d'erreur</code></pre></td>\n",
        "</tr>\n",
        "<tr>\n",
        "<td><b>Fichiers</b></td>\n",
        "<td>Lecture et Écriture</td>\n",
        "<td><pre><code>with open('text.txt', 'r') as file:<br>    contenu = file.read()<br><br>with open('text.txt', 'w') as file:<br>    file.write('Bonjour')</code></pre></td>\n",
        "</tr>\n",
        "<tr>\n",
        "<td><b>Importation de Modules</b></td>\n",
        "<td>Importation</td>\n",
        "<td><code>import math</code><br><code>from math import sqrt</code></td>\n",
        "</tr>\n",
        "</tbody>\n",
        "</table>\n"
      ]
    },
    {
      "cell_type": "markdown",
      "metadata": {},
      "source": [
        "<font color=\"green\"> <h3 align=\"left\">Exercice d'Application sur les Notions Clés en Python</h3></font>\n",
        "<p><b>Contexte :</b> Pour renforcer votre compréhension des fondamentaux de Python, cet exercice couvre plusieurs aspects clés du langage, y compris les structures de données, les boucles, les conditions, et la manipulation de fichiers.</p>\n",
        "\n",
        "<p><b>Exercices :</b></p>\n",
        "<ol>\n",
        "<li><b>Manipulation de Listes :</b>\n",
        "<ul>\n",
        "<li>Créez une liste nommée <code>fruits</code> avec les éléments \"pomme\", \"banane\", \"cerise\".</li>\n",
        "<li>Ajoutez \"orange\" à la fin de la liste.</li>\n",
        "<li>Supprimez \"banane\" de la liste.</li>\n",
        "<li>Affichez le dernier élément de la liste.</li>\n",
        "</ul>\n",
        "</li>\n",
        "<li><b>Utilisation des Dictionnaires :</b>\n",
        "<ul>\n",
        "<li>Créez un dictionnaire représentant un utilisateur, avec les clés \"nom\", \"âge\" et \"ville\".</li>\n",
        "<li>Modifiez l'âge de l'utilisateur.</li>\n",
        "<li>Ajoutez une clé \"profession\" avec une valeur appropriée.</li>\n",
        "<li>Affichez toutes les clés du dictionnaire.</li>\n",
        "</ul>\n",
        "</li>\n",
        "<li><b>Contrôle de Flux :</b>\n",
        "<ul>\n",
        "<li>Écrivez une condition qui vérifie si l'âge de l'utilisateur est supérieur à 18 et imprimez un message approprié.</li>\n",
        "<li>Utilisez une boucle <code>for</code> pour afficher chaque fruit de la liste <code>fruits</code>.</li>\n",
        "<li>Écrivez une boucle <code>while</code> qui compte de 0 à 10 et s'arrête lorsqu'elle atteint 5.</li>\n",
        "</ul>\n",
        "</li>\n",
        "<li><b>Fonctions et Gestion des Erreurs :</b>\n",
        "<ul>\n",
        "<li>Définissez une fonction nommée <code>saluer</code> qui prend un nom en paramètre et retourne un message de salutation.</li>\n",
        "<li>Utilisez un bloc <code>try-except</code> pour gérer une éventuelle erreur de type.</li>\n",
        "</ul>\n",
        "</li>\n",
        "<li><b>Manipulation de Fichiers :</b>\n",
        "<ul>\n",
        "<li>Écrivez un petit texte dans un fichier nommé <code>note.txt</code>.</li>\n",
        "<li>Lisez et affichez le contenu de <code>note.txt</code>.</li>\n",
        "</ul>\n",
        "</li>\n",
        "</ol>"
      ]
    },
    {
      "cell_type": "markdown",
      "metadata": {},
      "source": [
        "Exo 1"
      ]
    },
    {
      "cell_type": "code",
      "execution_count": 35,
      "metadata": {},
      "outputs": [
        {
          "name": "stdout",
          "output_type": "stream",
          "text": [
            "Ajouter orange :  ['pomme', 'banane', 'cerise', 'orange']\n",
            "Supprimer babane :  ['pomme', 'cerise', 'orange']\n",
            "Le dernier élément de la liste :  orange\n"
          ]
        }
      ],
      "source": [
        "fruits=[\"pomme\",\"banane\",\"cerise\"]\n",
        "\n",
        "fruits.append(\"orange\")\n",
        "print(\"Ajouter orange : \",fruits)\n",
        "\n",
        "fruits.remove(\"banane\")\n",
        "print(\"Supprimer babane : \",fruits)\n",
        "\n",
        "print(\"Le dernier élément de la liste : \",fruits[-1])"
      ]
    },
    {
      "cell_type": "markdown",
      "metadata": {},
      "source": [
        "Exo 2 "
      ]
    },
    {
      "cell_type": "code",
      "execution_count": 27,
      "metadata": {},
      "outputs": [
        {
          "name": "stdout",
          "output_type": "stream",
          "text": [
            "Nom : Hedi Fettar\n",
            "Âge : 22\n",
            "Ville : Paris\n",
            "Âge après la modification: 31\n"
          ]
        }
      ],
      "source": [
        "dictionnaire = {\n",
        "    \"nom\": \"Hedi Fettar\",\n",
        "    \"âge\": 22,\n",
        "    \"ville\": \"Paris\"\n",
        "}\n",
        "\n",
        "print(\"Nom :\", dictionnaire[\"nom\"])\n",
        "print(\"Âge :\", dictionnaire[\"âge\"])\n",
        "print(\"Ville :\", dictionnaire[\"ville\"])\n",
        "\n",
        "# Modification de l'âge\n",
        "dictionnaire[\"âge\"] = 31\n",
        "print(\"Âge après la modification:\", dictionnaire[\"âge\"])"
      ]
    },
    {
      "cell_type": "code",
      "execution_count": 28,
      "metadata": {},
      "outputs": [
        {
          "name": "stdout",
          "output_type": "stream",
          "text": [
            "{'nom': 'Hedi Fettar', 'âge': 31, 'ville': 'Paris', 'profession': 'Etudiant'}\n"
          ]
        }
      ],
      "source": [
        "dictionnaire[\"profession\"]=\"Etudiant\"\n",
        "print(dictionnaire)"
      ]
    },
    {
      "cell_type": "code",
      "execution_count": 25,
      "metadata": {},
      "outputs": [
        {
          "name": "stdout",
          "output_type": "stream",
          "text": [
            "dict_keys(['nom', 'âge', 'ville', 'profession'])\n"
          ]
        }
      ],
      "source": [
        "cles = dictionnaire.keys()\n",
        "print(cles)"
      ]
    },
    {
      "cell_type": "markdown",
      "metadata": {},
      "source": [
        "Exo 3"
      ]
    },
    {
      "cell_type": "code",
      "execution_count": 33,
      "metadata": {},
      "outputs": [
        {
          "name": "stdout",
          "output_type": "stream",
          "text": [
            "Bien joué vous êtes majeure !\n",
            "L'âge n'a pas été renseigné\n"
          ]
        }
      ],
      "source": [
        "def verifier_age(dictionnaire):\n",
        "    if \"âge\" in dictionnaire:\n",
        "\n",
        "        age =dictionnaire[\"âge\"]\n",
        "        if age > 18:\n",
        "            print('Bien joué vous êtes majeure !')\n",
        "        else : \n",
        "             print('Vous êtes encore mineure, vous ne pouvez pas participer')\n",
        "    else:\n",
        "        print(\"L'âge n'a pas été renseigné\")\n",
        "\n",
        "utilisateur1 = {\"nom\": \"John Doe\", \"âge\": 25, \"ville\": \"Paris\"}\n",
        "utilisateur2 = {\"nom\": \"Jane Doe\", \"ville\": \"Londres\"}\n",
        "\n",
        "verifier_age(utilisateur1)\n",
        "verifier_age(utilisateur2)"
      ]
    },
    {
      "cell_type": "markdown",
      "metadata": {},
      "source": [
        "Utilisez une boucle for pour afficher chaque fruit de la liste fruits"
      ]
    },
    {
      "cell_type": "code",
      "execution_count": 41,
      "metadata": {},
      "outputs": [
        {
          "name": "stdout",
          "output_type": "stream",
          "text": [
            "pomme\n",
            "banane\n",
            "cerise\n"
          ]
        }
      ],
      "source": [
        "fruits = [\"pomme\", \"banane\", \"cerise\"]\n",
        "\n",
        "def comparaison_fruit(fruits):\n",
        "    for i in range(len(fruits)):\n",
        "        print(fruits[i])\n",
        "\n",
        "comparaison_fruit(fruits)\n"
      ]
    },
    {
      "cell_type": "markdown",
      "metadata": {},
      "source": [
        "Ecrivez une boucle while qui compte de 0 à 10 et s'arrête lorsqu'elle atteint 5"
      ]
    },
    {
      "cell_type": "code",
      "execution_count": 43,
      "metadata": {},
      "outputs": [
        {
          "name": "stdout",
          "output_type": "stream",
          "text": [
            "0\n",
            "1\n",
            "2\n",
            "3\n",
            "4\n",
            "5\n"
          ]
        }
      ],
      "source": [
        "compteur = 0\n",
        "\n",
        "while compteur <= 10:\n",
        "    print(compteur)   \n",
        "    if compteur == 5:\n",
        "        break   \n",
        "    compteur += 1\n"
      ]
    },
    {
      "cell_type": "markdown",
      "metadata": {},
      "source": [
        "Exo 4"
      ]
    },
    {
      "cell_type": "markdown",
      "metadata": {},
      "source": [
        "Définissez une fonction nommée saluer qui prend un nom en paramètre et retourne un message de salutation "
      ]
    },
    {
      "cell_type": "code",
      "execution_count": 50,
      "metadata": {},
      "outputs": [
        {
          "name": "stdout",
          "output_type": "stream",
          "text": [
            "Bonjour, Hedi ! Comment ça va ?\n"
          ]
        }
      ],
      "source": [
        "def saluer(nom):\n",
        "    message = f\"Bonjour, {nom} ! Comment ça va ?\"\n",
        "    return message\n",
        "\n",
        "nom_utilisateur = \"Hedi\"\n",
        "message_salutation = saluer(nom_utilisateur)\n",
        "print(message_salutation)\n"
      ]
    },
    {
      "cell_type": "markdown",
      "metadata": {},
      "source": [
        "Utilisez un bloc try-exept pour gérer une éventuelle erreur de type"
      ]
    },
    {
      "cell_type": "code",
      "execution_count": 51,
      "metadata": {},
      "outputs": [
        {
          "name": "stdout",
          "output_type": "stream",
          "text": [
            "Bonjour, 123 ! Comment ça va ?\n"
          ]
        }
      ],
      "source": [
        "def saluer(nom):\n",
        "    try:\n",
        "        message = f\"Bonjour, {nom} ! Comment ça va ?\"\n",
        "        return message\n",
        "    except TypeError:\n",
        "        print(\"Erreur : Le paramètre 'nom' doit être de type chaîne (string).\")\n",
        "\n",
        "try:\n",
        "    nom_utilisateur = 123  \n",
        "    message_salutation = saluer(nom_utilisateur)\n",
        "    print(message_salutation)\n",
        "except TypeError as e:\n",
        "    print(f\"Erreur lors de l'utilisation de la fonction : {e}\")\n"
      ]
    },
    {
      "cell_type": "markdown",
      "metadata": {},
      "source": [
        "Exo 5"
      ]
    },
    {
      "cell_type": "markdown",
      "metadata": {},
      "source": [
        "Ecrivez un petit texte dans un fichier nommé note.txt "
      ]
    },
    {
      "cell_type": "code",
      "execution_count": 52,
      "metadata": {},
      "outputs": [
        {
          "name": "stdout",
          "output_type": "stream",
          "text": [
            "Le texte a été écrit dans le fichier note.txt.\n"
          ]
        }
      ],
      "source": [
        "with open('note.txt', 'w') as fichier:\n",
        "    fichier.write(\"Ceci est un petit texte dans le fichier note.txt.\\n\")\n",
        "    fichier.write(\"Vous pouvez ajouter plus de contenu ici si vous le souhaitez.\\n\")\n",
        "\n",
        "print(\"Le texte a été écrit dans le fichier note.txt.\")\n"
      ]
    },
    {
      "cell_type": "markdown",
      "metadata": {},
      "source": [
        "Lisez et afficher le contenu de note.txt"
      ]
    },
    {
      "cell_type": "code",
      "execution_count": 53,
      "metadata": {},
      "outputs": [
        {
          "name": "stdout",
          "output_type": "stream",
          "text": [
            "Contenu de note.txt :\n",
            " Ceci est un petit texte dans le fichier note.txt.\n",
            "Vous pouvez ajouter plus de contenu ici si vous le souhaitez.\n",
            "\n"
          ]
        }
      ],
      "source": [
        "with open('note.txt', 'r') as fichier:\n",
        "    contenu = fichier.read()\n",
        "print(\"Contenu de note.txt :\\n\", contenu)\n"
      ]
    }
  ],
  "metadata": {
    "colab": {
      "provenance": []
    },
    "kernelspec": {
      "display_name": "Python 3 (ipykernel)",
      "language": "python",
      "name": "python3"
    },
    "language_info": {
      "codemirror_mode": {
        "name": "ipython",
        "version": 3
      },
      "file_extension": ".py",
      "mimetype": "text/x-python",
      "name": "python",
      "nbconvert_exporter": "python",
      "pygments_lexer": "ipython3",
      "version": "3.10.13"
    }
  },
  "nbformat": 4,
  "nbformat_minor": 0
}
